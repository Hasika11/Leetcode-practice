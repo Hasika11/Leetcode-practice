{
 "cells": [
  {
   "cell_type": "code",
   "execution_count": 44,
   "metadata": {},
   "outputs": [
    {
     "name": "stdout",
     "output_type": "stream",
     "text": [
      "aba\n"
     ]
    },
    {
     "data": {
      "text/plain": [
       "True"
      ]
     },
     "execution_count": 44,
     "metadata": {},
     "output_type": "execute_result"
    }
   ],
   "source": [
    "import re\n",
    "#s= \"A man, a plan, a canal: Panama\"\n",
    "def ifpalindrome(s):\n",
    "    s = re.sub(r'[^\\w\\s]','',s).replace(\" \", \"\").lower()\n",
    "#     print(s)\n",
    "    s1=s[::-1]\n",
    "#     print(s1)\n",
    "    if len(s)==0:\n",
    "        return True\n",
    "    else:\n",
    "        if (s1==s):\n",
    "            return True\n",
    "        else:\n",
    "            return False\n",
    "        \n",
    "# ifpalindrome(\"A man, a plan, a canal: Panama\")\n",
    "       \n",
    "ifpalindrome(\"ab a\")\n"
   ]
  },
  {
   "cell_type": "code",
   "execution_count": null,
   "metadata": {},
   "outputs": [],
   "source": []
  }
 ],
 "metadata": {
  "kernelspec": {
   "display_name": "Python 3",
   "language": "python",
   "name": "python3"
  },
  "language_info": {
   "codemirror_mode": {
    "name": "ipython",
    "version": 3
   },
   "file_extension": ".py",
   "mimetype": "text/x-python",
   "name": "python",
   "nbconvert_exporter": "python",
   "pygments_lexer": "ipython3",
   "version": "3.6.5"
  }
 },
 "nbformat": 4,
 "nbformat_minor": 2
}
