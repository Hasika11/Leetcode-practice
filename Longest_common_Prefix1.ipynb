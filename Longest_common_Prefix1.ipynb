{
 "cells": [
  {
   "cell_type": "markdown",
   "metadata": {},
   "source": [
    "Write a function to find the longest common prefix string amongst an array of strings.\n",
    "If there is no common prefix, return an empty string \"\"."
   ]
  },
  {
   "cell_type": "code",
   "execution_count": 1,
   "metadata": {},
   "outputs": [
    {
     "data": {
      "text/plain": [
       "'fl'"
      ]
     },
     "execution_count": 1,
     "metadata": {},
     "output_type": "execute_result"
    }
   ],
   "source": [
    "def longestCommonPrefix(strs):\n",
    "    l={}\n",
    "    if len(strs)==0:\n",
    "        return (\"\")\n",
    "    else:\n",
    "        for each in strs:\n",
    "            l[each]=len(each)\n",
    "            smallest=(min(l, key=l.get))\n",
    "#         print(smallest)\n",
    "        for i in range(len(smallest)):\n",
    "            for each in strs:\n",
    "#                 print(each,each[i],smallest[i])\n",
    "                if each[i]!=smallest[i]:\n",
    "#                     print(i,smallest[:i])\n",
    "                    return(smallest[:i])\n",
    "        return smallest\n",
    "               \n",
    "longestCommonPrefix([\"flower\",\"flow\",\"flight\"])"
   ]
  },
  {
   "cell_type": "code",
   "execution_count": null,
   "metadata": {},
   "outputs": [],
   "source": []
  }
 ],
 "metadata": {
  "kernelspec": {
   "display_name": "Python 3",
   "language": "python",
   "name": "python3"
  },
  "language_info": {
   "codemirror_mode": {
    "name": "ipython",
    "version": 3
   },
   "file_extension": ".py",
   "mimetype": "text/x-python",
   "name": "python",
   "nbconvert_exporter": "python",
   "pygments_lexer": "ipython3",
   "version": "3.6.4"
  }
 },
 "nbformat": 4,
 "nbformat_minor": 2
}
