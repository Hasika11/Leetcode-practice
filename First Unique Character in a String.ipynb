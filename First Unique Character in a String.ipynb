{
 "cells": [
  {
   "cell_type": "markdown",
   "metadata": {},
   "source": [
    "Given a string, find the first non-repeating character in it and return it's index. If it doesn't exist, return -1.\n",
    "Note: You may assume the string contain only lowercase letters."
   ]
  },
  {
   "cell_type": "code",
   "execution_count": 86,
   "metadata": {},
   "outputs": [
    {
     "name": "stdout",
     "output_type": "stream",
     "text": [
      "0\n",
      "-1\n",
      "3\n",
      "-1\n",
      "-1\n",
      "2\n",
      "0\n"
     ]
    }
   ],
   "source": [
    "def firstUniqChar(s):\n",
    "    d={}\n",
    "    if len(s)==0:\n",
    "        return -1\n",
    "    else:\n",
    "        for word in s:\n",
    "            if word in d:\n",
    "                d[word] += 1\n",
    "            else:\n",
    "                d[word] = 1 \n",
    "        if all(x>1 for x in d.values()):\n",
    "            return -1\n",
    "        \n",
    "        for i in range(len(s)):\n",
    "            if i != len(s):\n",
    "                if (d[s[i]])==1 :\n",
    "                    return i\n",
    "                    break\n",
    "            else:\n",
    "                    return -1\n",
    "def Test(testcase):\n",
    "    print(firstUniqChar(testcase))\n",
    "    \n",
    "    \n",
    "Test(\"leetcode\")\n",
    "Test(\"aadadaad\")\n",
    "Test(\"pppk\")\n",
    "Test(\"\")\n",
    "Test(\"cc\")\n",
    "Test(\"loveleetcode\")\n",
    "Test(\"z\")\n"
   ]
  }
 ],
 "metadata": {
  "kernelspec": {
   "display_name": "Python 3",
   "language": "python",
   "name": "python3"
  },
  "language_info": {
   "codemirror_mode": {
    "name": "ipython",
    "version": 3
   },
   "file_extension": ".py",
   "mimetype": "text/x-python",
   "name": "python",
   "nbconvert_exporter": "python",
   "pygments_lexer": "ipython3",
   "version": "3.6.5"
  }
 },
 "nbformat": 4,
 "nbformat_minor": 2
}
