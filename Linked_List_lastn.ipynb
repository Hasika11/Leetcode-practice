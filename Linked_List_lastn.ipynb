{
 "cells": [
  {
   "cell_type": "markdown",
   "metadata": {},
   "source": [
    "Program for n’th node from the end of a Linked List"
   ]
  },
  {
   "cell_type": "code",
   "execution_count": 3,
   "metadata": {},
   "outputs": [
    {
     "name": "stdout",
     "output_type": "stream",
     "text": [
      "{0: '4', 1: '2', 2: '1', 3: '5'}\n",
      "5\n"
     ]
    }
   ],
   "source": [
    "class linked_list:\n",
    "    #Initializing linked list\n",
    "    def __init__(self, value, nextNode = None):\n",
    "        self.value=value\n",
    "        self.nextNode = nextNode\n",
    "     \n",
    "    #function to return nth element from the end of the linked list\n",
    "    def lastn(head,n):\n",
    "        d={}        #Dictionary to index each node of the liked list\n",
    "        curr_node = head\n",
    "        i=0\n",
    "        while curr_node is not None:  #traversing the linked list\n",
    "            d[i]=curr_node.value\n",
    "            curr_node=curr_node.nextNode\n",
    "            i+=1\n",
    "        print(d)\n",
    "        size = len(d)\n",
    "        if n>size or n==0:   #condition for invalid input\n",
    "            print (-1)\n",
    "        else:\n",
    "            valuetoreturn = (d[size-n])\n",
    "            print(valuetoreturn)  \n",
    "                      \n",
    "    #Creating a linked list\n",
    "    node1 = linked_list(\"4\")\n",
    "    node2 = linked_list(\"2\")\n",
    "    node3 = linked_list(\"1\")\n",
    "    node4 = linked_list(\"5\")\n",
    "    node1.nextNode = node2\n",
    "    node2.nextNode = node3\n",
    "    node3.nextNode = node4\n",
    "    \n",
    "    #Calling the funtion that returns the nth element from the end of the linked list\n",
    "    lastn(node1,1)\n"
   ]
  },
  {
   "cell_type": "code",
   "execution_count": null,
   "metadata": {},
   "outputs": [],
   "source": []
  }
 ],
 "metadata": {
  "kernelspec": {
   "display_name": "Python 3",
   "language": "python",
   "name": "python3"
  },
  "language_info": {
   "codemirror_mode": {
    "name": "ipython",
    "version": 3
   },
   "file_extension": ".py",
   "mimetype": "text/x-python",
   "name": "python",
   "nbconvert_exporter": "python",
   "pygments_lexer": "ipython3",
   "version": "3.6.5"
  }
 },
 "nbformat": 4,
 "nbformat_minor": 2
}
